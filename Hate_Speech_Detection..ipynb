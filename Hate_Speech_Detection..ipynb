{
  "nbformat": 4,
  "nbformat_minor": 0,
  "metadata": {
    "colab": {
      "provenance": []
    },
    "kernelspec": {
      "name": "python3",
      "display_name": "Python 3"
    },
    "language_info": {
      "name": "python"
    }
  },
  "cells": [
    {
      "cell_type": "markdown",
      "source": [
        "LIBRARIES"
      ],
      "metadata": {
        "id": "TIoXGdPDk_4I"
      }
    },
    {
      "cell_type": "code",
      "execution_count": null,
      "metadata": {
        "colab": {
          "base_uri": "https://localhost:8080/"
        },
        "id": "3lYG7RFbMvoJ",
        "outputId": "0f28ca23-2619-47db-9a6a-a1dc489b8cc3"
      },
      "outputs": [
        {
          "output_type": "stream",
          "name": "stdout",
          "text": [
            "Collecting pyvi\n",
            "  Downloading pyvi-0.1.1-py2.py3-none-any.whl.metadata (2.5 kB)\n",
            "Requirement already satisfied: scikit-learn in /usr/local/lib/python3.10/dist-packages (from pyvi) (1.5.2)\n",
            "Collecting sklearn-crfsuite (from pyvi)\n",
            "  Downloading sklearn_crfsuite-0.5.0-py2.py3-none-any.whl.metadata (4.9 kB)\n",
            "Requirement already satisfied: numpy>=1.19.5 in /usr/local/lib/python3.10/dist-packages (from scikit-learn->pyvi) (1.26.4)\n",
            "Requirement already satisfied: scipy>=1.6.0 in /usr/local/lib/python3.10/dist-packages (from scikit-learn->pyvi) (1.13.1)\n",
            "Requirement already satisfied: joblib>=1.2.0 in /usr/local/lib/python3.10/dist-packages (from scikit-learn->pyvi) (1.4.2)\n",
            "Requirement already satisfied: threadpoolctl>=3.1.0 in /usr/local/lib/python3.10/dist-packages (from scikit-learn->pyvi) (3.5.0)\n",
            "Collecting python-crfsuite>=0.9.7 (from sklearn-crfsuite->pyvi)\n",
            "  Downloading python_crfsuite-0.9.11-cp310-cp310-manylinux_2_17_x86_64.manylinux2014_x86_64.whl.metadata (4.3 kB)\n",
            "Requirement already satisfied: tabulate>=0.4.2 in /usr/local/lib/python3.10/dist-packages (from sklearn-crfsuite->pyvi) (0.9.0)\n",
            "Requirement already satisfied: tqdm>=2.0 in /usr/local/lib/python3.10/dist-packages (from sklearn-crfsuite->pyvi) (4.66.6)\n",
            "Downloading pyvi-0.1.1-py2.py3-none-any.whl (8.5 MB)\n",
            "\u001b[2K   \u001b[90m━━━━━━━━━━━━━━━━━━━━━━━━━━━━━━━━━━━━━━━━\u001b[0m \u001b[32m8.5/8.5 MB\u001b[0m \u001b[31m18.8 MB/s\u001b[0m eta \u001b[36m0:00:00\u001b[0m\n",
            "\u001b[?25hDownloading sklearn_crfsuite-0.5.0-py2.py3-none-any.whl (10 kB)\n",
            "Downloading python_crfsuite-0.9.11-cp310-cp310-manylinux_2_17_x86_64.manylinux2014_x86_64.whl (1.2 MB)\n",
            "\u001b[2K   \u001b[90m━━━━━━━━━━━━━━━━━━━━━━━━━━━━━━━━━━━━━━━━\u001b[0m \u001b[32m1.2/1.2 MB\u001b[0m \u001b[31m33.4 MB/s\u001b[0m eta \u001b[36m0:00:00\u001b[0m\n",
            "\u001b[?25hInstalling collected packages: python-crfsuite, sklearn-crfsuite, pyvi\n",
            "Successfully installed python-crfsuite-0.9.11 pyvi-0.1.1 sklearn-crfsuite-0.5.0\n"
          ]
        }
      ],
      "source": [
        "pip install pyvi"
      ]
    },
    {
      "cell_type": "code",
      "source": [
        "pip install tensorflow\n"
      ],
      "metadata": {
        "colab": {
          "base_uri": "https://localhost:8080/"
        },
        "id": "q4BVAJsFOMpT",
        "outputId": "6b7bbd40-febc-490e-d8f5-b889aa5dbf19"
      },
      "execution_count": null,
      "outputs": [
        {
          "output_type": "stream",
          "name": "stdout",
          "text": [
            "Requirement already satisfied: tensorflow in /usr/local/lib/python3.10/dist-packages (2.17.1)\n",
            "Requirement already satisfied: absl-py>=1.0.0 in /usr/local/lib/python3.10/dist-packages (from tensorflow) (1.4.0)\n",
            "Requirement already satisfied: astunparse>=1.6.0 in /usr/local/lib/python3.10/dist-packages (from tensorflow) (1.6.3)\n",
            "Requirement already satisfied: flatbuffers>=24.3.25 in /usr/local/lib/python3.10/dist-packages (from tensorflow) (24.3.25)\n",
            "Requirement already satisfied: gast!=0.5.0,!=0.5.1,!=0.5.2,>=0.2.1 in /usr/local/lib/python3.10/dist-packages (from tensorflow) (0.6.0)\n",
            "Requirement already satisfied: google-pasta>=0.1.1 in /usr/local/lib/python3.10/dist-packages (from tensorflow) (0.2.0)\n",
            "Requirement already satisfied: h5py>=3.10.0 in /usr/local/lib/python3.10/dist-packages (from tensorflow) (3.12.1)\n",
            "Requirement already satisfied: libclang>=13.0.0 in /usr/local/lib/python3.10/dist-packages (from tensorflow) (18.1.1)\n",
            "Requirement already satisfied: ml-dtypes<0.5.0,>=0.3.1 in /usr/local/lib/python3.10/dist-packages (from tensorflow) (0.4.1)\n",
            "Requirement already satisfied: opt-einsum>=2.3.2 in /usr/local/lib/python3.10/dist-packages (from tensorflow) (3.4.0)\n",
            "Requirement already satisfied: packaging in /usr/local/lib/python3.10/dist-packages (from tensorflow) (24.2)\n",
            "Requirement already satisfied: protobuf!=4.21.0,!=4.21.1,!=4.21.2,!=4.21.3,!=4.21.4,!=4.21.5,<5.0.0dev,>=3.20.3 in /usr/local/lib/python3.10/dist-packages (from tensorflow) (4.25.5)\n",
            "Requirement already satisfied: requests<3,>=2.21.0 in /usr/local/lib/python3.10/dist-packages (from tensorflow) (2.32.3)\n",
            "Requirement already satisfied: setuptools in /usr/local/lib/python3.10/dist-packages (from tensorflow) (75.1.0)\n",
            "Requirement already satisfied: six>=1.12.0 in /usr/local/lib/python3.10/dist-packages (from tensorflow) (1.16.0)\n",
            "Requirement already satisfied: termcolor>=1.1.0 in /usr/local/lib/python3.10/dist-packages (from tensorflow) (2.5.0)\n",
            "Requirement already satisfied: typing-extensions>=3.6.6 in /usr/local/lib/python3.10/dist-packages (from tensorflow) (4.12.2)\n",
            "Requirement already satisfied: wrapt>=1.11.0 in /usr/local/lib/python3.10/dist-packages (from tensorflow) (1.16.0)\n",
            "Requirement already satisfied: grpcio<2.0,>=1.24.3 in /usr/local/lib/python3.10/dist-packages (from tensorflow) (1.67.1)\n",
            "Requirement already satisfied: tensorboard<2.18,>=2.17 in /usr/local/lib/python3.10/dist-packages (from tensorflow) (2.17.1)\n",
            "Requirement already satisfied: keras>=3.2.0 in /usr/local/lib/python3.10/dist-packages (from tensorflow) (3.5.0)\n",
            "Requirement already satisfied: tensorflow-io-gcs-filesystem>=0.23.1 in /usr/local/lib/python3.10/dist-packages (from tensorflow) (0.37.1)\n",
            "Requirement already satisfied: numpy<2.0.0,>=1.23.5 in /usr/local/lib/python3.10/dist-packages (from tensorflow) (1.26.4)\n",
            "Requirement already satisfied: wheel<1.0,>=0.23.0 in /usr/local/lib/python3.10/dist-packages (from astunparse>=1.6.0->tensorflow) (0.45.0)\n",
            "Requirement already satisfied: rich in /usr/local/lib/python3.10/dist-packages (from keras>=3.2.0->tensorflow) (13.9.4)\n",
            "Requirement already satisfied: namex in /usr/local/lib/python3.10/dist-packages (from keras>=3.2.0->tensorflow) (0.0.8)\n",
            "Requirement already satisfied: optree in /usr/local/lib/python3.10/dist-packages (from keras>=3.2.0->tensorflow) (0.13.1)\n",
            "Requirement already satisfied: charset-normalizer<4,>=2 in /usr/local/lib/python3.10/dist-packages (from requests<3,>=2.21.0->tensorflow) (3.4.0)\n",
            "Requirement already satisfied: idna<4,>=2.5 in /usr/local/lib/python3.10/dist-packages (from requests<3,>=2.21.0->tensorflow) (3.10)\n",
            "Requirement already satisfied: urllib3<3,>=1.21.1 in /usr/local/lib/python3.10/dist-packages (from requests<3,>=2.21.0->tensorflow) (2.2.3)\n",
            "Requirement already satisfied: certifi>=2017.4.17 in /usr/local/lib/python3.10/dist-packages (from requests<3,>=2.21.0->tensorflow) (2024.8.30)\n",
            "Requirement already satisfied: markdown>=2.6.8 in /usr/local/lib/python3.10/dist-packages (from tensorboard<2.18,>=2.17->tensorflow) (3.7)\n",
            "Requirement already satisfied: tensorboard-data-server<0.8.0,>=0.7.0 in /usr/local/lib/python3.10/dist-packages (from tensorboard<2.18,>=2.17->tensorflow) (0.7.2)\n",
            "Requirement already satisfied: werkzeug>=1.0.1 in /usr/local/lib/python3.10/dist-packages (from tensorboard<2.18,>=2.17->tensorflow) (3.1.3)\n",
            "Requirement already satisfied: MarkupSafe>=2.1.1 in /usr/local/lib/python3.10/dist-packages (from werkzeug>=1.0.1->tensorboard<2.18,>=2.17->tensorflow) (3.0.2)\n",
            "Requirement already satisfied: markdown-it-py>=2.2.0 in /usr/local/lib/python3.10/dist-packages (from rich->keras>=3.2.0->tensorflow) (3.0.0)\n",
            "Requirement already satisfied: pygments<3.0.0,>=2.13.0 in /usr/local/lib/python3.10/dist-packages (from rich->keras>=3.2.0->tensorflow) (2.18.0)\n",
            "Requirement already satisfied: mdurl~=0.1 in /usr/local/lib/python3.10/dist-packages (from markdown-it-py>=2.2.0->rich->keras>=3.2.0->tensorflow) (0.1.2)\n"
          ]
        }
      ]
    },
    {
      "cell_type": "code",
      "source": [
        "import tensorflow as tf\n",
        "print(\"TensorFlow version:\", tf.__version__)\n",
        "print(\"GPU available:\", tf.config.list_physical_devices('GPU'))\n"
      ],
      "metadata": {
        "colab": {
          "base_uri": "https://localhost:8080/"
        },
        "id": "jM-IfaoVOifs",
        "outputId": "670a7aa7-c888-4c70-f578-4eea2487a5d9"
      },
      "execution_count": null,
      "outputs": [
        {
          "output_type": "stream",
          "name": "stdout",
          "text": [
            "TensorFlow version: 2.17.1\n",
            "GPU available: []\n"
          ]
        }
      ]
    },
    {
      "cell_type": "code",
      "source": [
        "pip install keras==2.3.1"
      ],
      "metadata": {
        "colab": {
          "base_uri": "https://localhost:8080/"
        },
        "id": "rdf9sEiXOsLX",
        "outputId": "12bd93d5-c699-41ac-c5a2-c6a78a1d74e8"
      },
      "execution_count": null,
      "outputs": [
        {
          "output_type": "stream",
          "name": "stdout",
          "text": [
            "Requirement already satisfied: keras==2.3.1 in /usr/local/lib/python3.10/dist-packages (2.3.1)\n",
            "Requirement already satisfied: numpy>=1.9.1 in /usr/local/lib/python3.10/dist-packages (from keras==2.3.1) (1.26.4)\n",
            "Requirement already satisfied: scipy>=0.14 in /usr/local/lib/python3.10/dist-packages (from keras==2.3.1) (1.13.1)\n",
            "Requirement already satisfied: six>=1.9.0 in /usr/local/lib/python3.10/dist-packages (from keras==2.3.1) (1.16.0)\n",
            "Requirement already satisfied: pyyaml in /usr/local/lib/python3.10/dist-packages (from keras==2.3.1) (6.0.2)\n",
            "Requirement already satisfied: h5py in /usr/local/lib/python3.10/dist-packages (from keras==2.3.1) (3.12.1)\n",
            "Requirement already satisfied: keras-applications>=1.0.6 in /usr/local/lib/python3.10/dist-packages (from keras==2.3.1) (1.0.8)\n",
            "Requirement already satisfied: keras-preprocessing>=1.0.5 in /usr/local/lib/python3.10/dist-packages (from keras==2.3.1) (1.1.2)\n"
          ]
        }
      ]
    },
    {
      "cell_type": "code",
      "source": [
        "pip install pandas numpy pyvi"
      ],
      "metadata": {
        "colab": {
          "base_uri": "https://localhost:8080/"
        },
        "id": "sa_t13PlkhfJ",
        "outputId": "71d23b41-b9f4-49ef-b6dd-cf36fe7e656a"
      },
      "execution_count": null,
      "outputs": [
        {
          "output_type": "stream",
          "name": "stdout",
          "text": [
            "Requirement already satisfied: pandas in /usr/local/lib/python3.10/dist-packages (2.2.2)\n",
            "Requirement already satisfied: numpy in /usr/local/lib/python3.10/dist-packages (1.26.4)\n",
            "Requirement already satisfied: pyvi in /usr/local/lib/python3.10/dist-packages (0.1.1)\n",
            "Requirement already satisfied: python-dateutil>=2.8.2 in /usr/local/lib/python3.10/dist-packages (from pandas) (2.8.2)\n",
            "Requirement already satisfied: pytz>=2020.1 in /usr/local/lib/python3.10/dist-packages (from pandas) (2024.2)\n",
            "Requirement already satisfied: tzdata>=2022.7 in /usr/local/lib/python3.10/dist-packages (from pandas) (2024.2)\n",
            "Requirement already satisfied: scikit-learn in /usr/local/lib/python3.10/dist-packages (from pyvi) (1.5.2)\n",
            "Requirement already satisfied: sklearn-crfsuite in /usr/local/lib/python3.10/dist-packages (from pyvi) (0.5.0)\n",
            "Requirement already satisfied: six>=1.5 in /usr/local/lib/python3.10/dist-packages (from python-dateutil>=2.8.2->pandas) (1.16.0)\n",
            "Requirement already satisfied: scipy>=1.6.0 in /usr/local/lib/python3.10/dist-packages (from scikit-learn->pyvi) (1.13.1)\n",
            "Requirement already satisfied: joblib>=1.2.0 in /usr/local/lib/python3.10/dist-packages (from scikit-learn->pyvi) (1.4.2)\n",
            "Requirement already satisfied: threadpoolctl>=3.1.0 in /usr/local/lib/python3.10/dist-packages (from scikit-learn->pyvi) (3.5.0)\n",
            "Requirement already satisfied: python-crfsuite>=0.9.7 in /usr/local/lib/python3.10/dist-packages (from sklearn-crfsuite->pyvi) (0.9.11)\n",
            "Requirement already satisfied: tabulate>=0.4.2 in /usr/local/lib/python3.10/dist-packages (from sklearn-crfsuite->pyvi) (0.9.0)\n",
            "Requirement already satisfied: tqdm>=2.0 in /usr/local/lib/python3.10/dist-packages (from sklearn-crfsuite->pyvi) (4.66.6)\n"
          ]
        }
      ]
    },
    {
      "cell_type": "code",
      "source": [
        "TOKENIZER_FILE = '/path/to/tokenizer.pkl'"
      ],
      "metadata": {
        "id": "YrbylciMlq2M"
      },
      "execution_count": null,
      "outputs": []
    },
    {
      "cell_type": "code",
      "source": [
        "pip install tensorflow-gpu==2.8"
      ],
      "metadata": {
        "colab": {
          "base_uri": "https://localhost:8080/",
          "height": 1000
        },
        "id": "pGVfcflbO8kG",
        "outputId": "ba1bda78-2d2a-439e-8838-eca69535f43c"
      },
      "execution_count": null,
      "outputs": [
        {
          "output_type": "stream",
          "name": "stdout",
          "text": [
            "Collecting tensorflow-gpu==2.8\n",
            "  Downloading tensorflow_gpu-2.8.0-cp310-cp310-manylinux2010_x86_64.whl.metadata (2.9 kB)\n",
            "Requirement already satisfied: absl-py>=0.4.0 in /usr/local/lib/python3.10/dist-packages (from tensorflow-gpu==2.8) (1.4.0)\n",
            "Requirement already satisfied: astunparse>=1.6.0 in /usr/local/lib/python3.10/dist-packages (from tensorflow-gpu==2.8) (1.6.3)\n",
            "Requirement already satisfied: flatbuffers>=1.12 in /usr/local/lib/python3.10/dist-packages (from tensorflow-gpu==2.8) (24.3.25)\n",
            "Requirement already satisfied: gast>=0.2.1 in /usr/local/lib/python3.10/dist-packages (from tensorflow-gpu==2.8) (0.6.0)\n",
            "Requirement already satisfied: google-pasta>=0.1.1 in /usr/local/lib/python3.10/dist-packages (from tensorflow-gpu==2.8) (0.2.0)\n",
            "Requirement already satisfied: h5py>=2.9.0 in /usr/local/lib/python3.10/dist-packages (from tensorflow-gpu==2.8) (3.12.1)\n",
            "Collecting keras-preprocessing>=1.1.1 (from tensorflow-gpu==2.8)\n",
            "  Downloading Keras_Preprocessing-1.1.2-py2.py3-none-any.whl.metadata (1.9 kB)\n",
            "Requirement already satisfied: libclang>=9.0.1 in /usr/local/lib/python3.10/dist-packages (from tensorflow-gpu==2.8) (18.1.1)\n",
            "Requirement already satisfied: numpy>=1.20 in /usr/local/lib/python3.10/dist-packages (from tensorflow-gpu==2.8) (1.26.4)\n",
            "Requirement already satisfied: opt-einsum>=2.3.2 in /usr/local/lib/python3.10/dist-packages (from tensorflow-gpu==2.8) (3.4.0)\n",
            "Requirement already satisfied: protobuf>=3.9.2 in /usr/local/lib/python3.10/dist-packages (from tensorflow-gpu==2.8) (4.25.5)\n",
            "Requirement already satisfied: setuptools in /usr/local/lib/python3.10/dist-packages (from tensorflow-gpu==2.8) (75.1.0)\n",
            "Requirement already satisfied: six>=1.12.0 in /usr/local/lib/python3.10/dist-packages (from tensorflow-gpu==2.8) (1.16.0)\n",
            "Requirement already satisfied: termcolor>=1.1.0 in /usr/local/lib/python3.10/dist-packages (from tensorflow-gpu==2.8) (2.5.0)\n",
            "Requirement already satisfied: typing-extensions>=3.6.6 in /usr/local/lib/python3.10/dist-packages (from tensorflow-gpu==2.8) (4.12.2)\n",
            "Requirement already satisfied: wrapt>=1.11.0 in /usr/local/lib/python3.10/dist-packages (from tensorflow-gpu==2.8) (1.16.0)\n",
            "Collecting tensorboard<2.9,>=2.8 (from tensorflow-gpu==2.8)\n",
            "  Downloading tensorboard-2.8.0-py3-none-any.whl.metadata (1.9 kB)\n",
            "Collecting tf-estimator-nightly==2.8.0.dev2021122109 (from tensorflow-gpu==2.8)\n",
            "  Downloading tf_estimator_nightly-2.8.0.dev2021122109-py2.py3-none-any.whl.metadata (1.2 kB)\n",
            "Collecting keras<2.9,>=2.8.0rc0 (from tensorflow-gpu==2.8)\n",
            "  Downloading keras-2.8.0-py2.py3-none-any.whl.metadata (1.3 kB)\n",
            "Requirement already satisfied: tensorflow-io-gcs-filesystem>=0.23.1 in /usr/local/lib/python3.10/dist-packages (from tensorflow-gpu==2.8) (0.37.1)\n",
            "Requirement already satisfied: grpcio<2.0,>=1.24.3 in /usr/local/lib/python3.10/dist-packages (from tensorflow-gpu==2.8) (1.68.0)\n",
            "Requirement already satisfied: wheel<1.0,>=0.23.0 in /usr/local/lib/python3.10/dist-packages (from astunparse>=1.6.0->tensorflow-gpu==2.8) (0.45.0)\n",
            "Requirement already satisfied: google-auth<3,>=1.6.3 in /usr/local/lib/python3.10/dist-packages (from tensorboard<2.9,>=2.8->tensorflow-gpu==2.8) (2.27.0)\n",
            "Collecting google-auth-oauthlib<0.5,>=0.4.1 (from tensorboard<2.9,>=2.8->tensorflow-gpu==2.8)\n",
            "  Downloading google_auth_oauthlib-0.4.6-py2.py3-none-any.whl.metadata (2.7 kB)\n",
            "Requirement already satisfied: markdown>=2.6.8 in /usr/local/lib/python3.10/dist-packages (from tensorboard<2.9,>=2.8->tensorflow-gpu==2.8) (3.7)\n",
            "Requirement already satisfied: requests<3,>=2.21.0 in /usr/local/lib/python3.10/dist-packages (from tensorboard<2.9,>=2.8->tensorflow-gpu==2.8) (2.32.3)\n",
            "Collecting tensorboard-data-server<0.7.0,>=0.6.0 (from tensorboard<2.9,>=2.8->tensorflow-gpu==2.8)\n",
            "  Downloading tensorboard_data_server-0.6.1-py3-none-manylinux2010_x86_64.whl.metadata (1.1 kB)\n",
            "Collecting tensorboard-plugin-wit>=1.6.0 (from tensorboard<2.9,>=2.8->tensorflow-gpu==2.8)\n",
            "  Downloading tensorboard_plugin_wit-1.8.1-py3-none-any.whl.metadata (873 bytes)\n",
            "Requirement already satisfied: werkzeug>=0.11.15 in /usr/local/lib/python3.10/dist-packages (from tensorboard<2.9,>=2.8->tensorflow-gpu==2.8) (3.1.3)\n",
            "Requirement already satisfied: cachetools<6.0,>=2.0.0 in /usr/local/lib/python3.10/dist-packages (from google-auth<3,>=1.6.3->tensorboard<2.9,>=2.8->tensorflow-gpu==2.8) (5.5.0)\n",
            "Requirement already satisfied: pyasn1-modules>=0.2.1 in /usr/local/lib/python3.10/dist-packages (from google-auth<3,>=1.6.3->tensorboard<2.9,>=2.8->tensorflow-gpu==2.8) (0.4.1)\n",
            "Requirement already satisfied: rsa<5,>=3.1.4 in /usr/local/lib/python3.10/dist-packages (from google-auth<3,>=1.6.3->tensorboard<2.9,>=2.8->tensorflow-gpu==2.8) (4.9)\n",
            "Requirement already satisfied: requests-oauthlib>=0.7.0 in /usr/local/lib/python3.10/dist-packages (from google-auth-oauthlib<0.5,>=0.4.1->tensorboard<2.9,>=2.8->tensorflow-gpu==2.8) (1.3.1)\n",
            "Requirement already satisfied: charset-normalizer<4,>=2 in /usr/local/lib/python3.10/dist-packages (from requests<3,>=2.21.0->tensorboard<2.9,>=2.8->tensorflow-gpu==2.8) (3.4.0)\n",
            "Requirement already satisfied: idna<4,>=2.5 in /usr/local/lib/python3.10/dist-packages (from requests<3,>=2.21.0->tensorboard<2.9,>=2.8->tensorflow-gpu==2.8) (3.10)\n",
            "Requirement already satisfied: urllib3<3,>=1.21.1 in /usr/local/lib/python3.10/dist-packages (from requests<3,>=2.21.0->tensorboard<2.9,>=2.8->tensorflow-gpu==2.8) (2.2.3)\n",
            "Requirement already satisfied: certifi>=2017.4.17 in /usr/local/lib/python3.10/dist-packages (from requests<3,>=2.21.0->tensorboard<2.9,>=2.8->tensorflow-gpu==2.8) (2024.8.30)\n",
            "Requirement already satisfied: MarkupSafe>=2.1.1 in /usr/local/lib/python3.10/dist-packages (from werkzeug>=0.11.15->tensorboard<2.9,>=2.8->tensorflow-gpu==2.8) (3.0.2)\n",
            "Requirement already satisfied: pyasn1<0.7.0,>=0.4.6 in /usr/local/lib/python3.10/dist-packages (from pyasn1-modules>=0.2.1->google-auth<3,>=1.6.3->tensorboard<2.9,>=2.8->tensorflow-gpu==2.8) (0.6.1)\n",
            "Requirement already satisfied: oauthlib>=3.0.0 in /usr/local/lib/python3.10/dist-packages (from requests-oauthlib>=0.7.0->google-auth-oauthlib<0.5,>=0.4.1->tensorboard<2.9,>=2.8->tensorflow-gpu==2.8) (3.2.2)\n",
            "Downloading tensorflow_gpu-2.8.0-cp310-cp310-manylinux2010_x86_64.whl (497.6 MB)\n",
            "\u001b[2K   \u001b[90m━━━━━━━━━━━━━━━━━━━━━━━━━━━━━━━━━━━━━━━━\u001b[0m \u001b[32m497.6/497.6 MB\u001b[0m \u001b[31m1.1 MB/s\u001b[0m eta \u001b[36m0:00:00\u001b[0m\n",
            "\u001b[?25hDownloading tf_estimator_nightly-2.8.0.dev2021122109-py2.py3-none-any.whl (462 kB)\n",
            "\u001b[2K   \u001b[90m━━━━━━━━━━━━━━━━━━━━━━━━━━━━━━━━━━━━━━━━\u001b[0m \u001b[32m462.5/462.5 kB\u001b[0m \u001b[31m25.8 MB/s\u001b[0m eta \u001b[36m0:00:00\u001b[0m\n",
            "\u001b[?25hDownloading keras-2.8.0-py2.py3-none-any.whl (1.4 MB)\n",
            "\u001b[2K   \u001b[90m━━━━━━━━━━━━━━━━━━━━━━━━━━━━━━━━━━━━━━━━\u001b[0m \u001b[32m1.4/1.4 MB\u001b[0m \u001b[31m49.5 MB/s\u001b[0m eta \u001b[36m0:00:00\u001b[0m\n",
            "\u001b[?25hDownloading Keras_Preprocessing-1.1.2-py2.py3-none-any.whl (42 kB)\n",
            "\u001b[2K   \u001b[90m━━━━━━━━━━━━━━━━━━━━━━━━━━━━━━━━━━━━━━━━\u001b[0m \u001b[32m42.6/42.6 kB\u001b[0m \u001b[31m3.7 MB/s\u001b[0m eta \u001b[36m0:00:00\u001b[0m\n",
            "\u001b[?25hDownloading tensorboard-2.8.0-py3-none-any.whl (5.8 MB)\n",
            "\u001b[2K   \u001b[90m━━━━━━━━━━━━━━━━━━━━━━━━━━━━━━━━━━━━━━━━\u001b[0m \u001b[32m5.8/5.8 MB\u001b[0m \u001b[31m38.9 MB/s\u001b[0m eta \u001b[36m0:00:00\u001b[0m\n",
            "\u001b[?25hDownloading google_auth_oauthlib-0.4.6-py2.py3-none-any.whl (18 kB)\n",
            "Downloading tensorboard_data_server-0.6.1-py3-none-manylinux2010_x86_64.whl (4.9 MB)\n",
            "\u001b[2K   \u001b[90m━━━━━━━━━━━━━━━━━━━━━━━━━━━━━━━━━━━━━━━━\u001b[0m \u001b[32m4.9/4.9 MB\u001b[0m \u001b[31m33.7 MB/s\u001b[0m eta \u001b[36m0:00:00\u001b[0m\n",
            "\u001b[?25hDownloading tensorboard_plugin_wit-1.8.1-py3-none-any.whl (781 kB)\n",
            "\u001b[2K   \u001b[90m━━━━━━━━━━━━━━━━━━━━━━━━━━━━━━━━━━━━━━━━\u001b[0m \u001b[32m781.3/781.3 kB\u001b[0m \u001b[31m39.4 MB/s\u001b[0m eta \u001b[36m0:00:00\u001b[0m\n",
            "\u001b[?25hInstalling collected packages: tf-estimator-nightly, tensorboard-plugin-wit, keras, tensorboard-data-server, keras-preprocessing, google-auth-oauthlib, tensorboard, tensorflow-gpu\n",
            "  Attempting uninstall: keras\n",
            "    Found existing installation: keras 3.5.0\n",
            "    Uninstalling keras-3.5.0:\n",
            "      Successfully uninstalled keras-3.5.0\n",
            "  Attempting uninstall: tensorboard-data-server\n",
            "    Found existing installation: tensorboard-data-server 0.7.2\n",
            "    Uninstalling tensorboard-data-server-0.7.2:\n",
            "      Successfully uninstalled tensorboard-data-server-0.7.2\n",
            "  Attempting uninstall: google-auth-oauthlib\n",
            "    Found existing installation: google-auth-oauthlib 1.2.1\n",
            "    Uninstalling google-auth-oauthlib-1.2.1:\n",
            "      Successfully uninstalled google-auth-oauthlib-1.2.1\n",
            "  Attempting uninstall: tensorboard\n",
            "    Found existing installation: tensorboard 2.17.1\n",
            "    Uninstalling tensorboard-2.17.1:\n",
            "      Successfully uninstalled tensorboard-2.17.1\n",
            "\u001b[31mERROR: pip's dependency resolver does not currently take into account all the packages that are installed. This behaviour is the source of the following dependency conflicts.\n",
            "pandas-gbq 0.24.0 requires google-auth-oauthlib>=0.7.0, but you have google-auth-oauthlib 0.4.6 which is incompatible.\n",
            "tensorflow 2.17.1 requires keras>=3.2.0, but you have keras 2.8.0 which is incompatible.\n",
            "tensorflow 2.17.1 requires tensorboard<2.18,>=2.17, but you have tensorboard 2.8.0 which is incompatible.\u001b[0m\u001b[31m\n",
            "\u001b[0mSuccessfully installed google-auth-oauthlib-0.4.6 keras-2.8.0 keras-preprocessing-1.1.2 tensorboard-2.8.0 tensorboard-data-server-0.6.1 tensorboard-plugin-wit-1.8.1 tensorflow-gpu-2.8.0 tf-estimator-nightly-2.8.0.dev2021122109\n"
          ]
        },
        {
          "output_type": "display_data",
          "data": {
            "application/vnd.colab-display-data+json": {
              "pip_warning": {
                "packages": [
                  "keras",
                  "tensorflow"
                ]
              },
              "id": "9ec64f0d66414fdba0a4588d7d494fd0"
            }
          },
          "metadata": {}
        }
      ]
    },
    {
      "cell_type": "markdown",
      "source": [
        "DATA LOADER"
      ],
      "metadata": {
        "id": "7EmS7xX9kFnx"
      }
    },
    {
      "source": [
        "import pandas as pd\n",
        "import numpy as np\n",
        "import zipfile\n",
        "\n",
        "DATA = '/content/vihsd (1).zip'\n",
        "DEV_DATA = '/content/vihsd (1).zip'\n",
        "TEST_DATA = '/content/vihsd (1).zip'\n",
        "\n",
        "# read data\n",
        "# Specify the file within the zip archive\n",
        "with zipfile.ZipFile(DATA, 'r') as zip_ref:\n",
        "    train_data = pd.read_csv(zip_ref.open('vihsd/train.csv'))  # Assuming 'train.csv' is in a folder 'vihsd' within the zip\n",
        "\n",
        "with zipfile.ZipFile(DEV_DATA, 'r') as zip_ref:\n",
        "    dev_data = pd.read_csv(zip_ref.open('vihsd/dev.csv'))  # Assuming 'dev.csv' is in a folder 'vihsd' within the zip\n",
        "\n",
        "with zipfile.ZipFile(TEST_DATA, 'r') as zip_ref:\n",
        "    test_data = pd.read_csv(zip_ref.open('vihsd/test.csv'))  # Assuming 'test.csv' is in a folder 'vihsd' within the zip\n",
        "\n",
        "\n",
        "print(len(train_data))\n",
        "print(len(dev_data))\n",
        "print(len(test_data))\n",
        "\n",
        "X_train = train_data['free_text']\n",
        "y_train = train_data['label_id'].values\n",
        "\n",
        "X_dev = dev_data['free_text']\n",
        "y_dev = dev_data['label_id'].values\n",
        "\n",
        "X_test = test_data['free_text']\n",
        "y_test = test_data['label_id'].values"
      ],
      "cell_type": "code",
      "metadata": {
        "colab": {
          "base_uri": "https://localhost:8080/"
        },
        "id": "bnEoxImkPwOv",
        "outputId": "ca91e43f-38b3-4d61-86a1-070fb7857c1a"
      },
      "execution_count": null,
      "outputs": [
        {
          "output_type": "stream",
          "name": "stdout",
          "text": [
            "24048\n",
            "2672\n",
            "6680\n"
          ]
        }
      ]
    },
    {
      "source": [
        "import pandas as pd\n",
        "import re\n",
        "import numpy as np\n",
        "from pyvi.ViTokenizer import ViTokenizer\n",
        "\n",
        "# Paths to the CSV files\n",
        "STOPWORDS_CSV = '/content/dev[1].csv'\n",
        "TRAIN_CSV = '/content/train.csv'\n",
        "TEST_CSV = '/content/test.csv'\n",
        "\n",
        "# Function to load stopwords from the CSV file\n",
        "def load_stopwords(csv_path):\n",
        "    try:\n",
        "        stopwords_df = pd.read_csv(csv_path, header=None)\n",
        "        stopwords = set(stopwords_df[0].str.strip())\n",
        "        print(\"Stopwords loaded successfully.\")\n",
        "        return stopwords\n",
        "    except Exception as e:\n",
        "        raise ValueError(f\"Error loading stopwords from {csv_path}: {e}\")\n",
        "\n",
        "# Debugging function to inspect dataset columns\n",
        "def inspect_csv_columns(csv_path):\n",
        "    try:\n",
        "        df = pd.read_csv(csv_path)\n",
        "        print(f\"Columns in {csv_path}: {df.columns.tolist()}\")\n",
        "    except Exception as e:\n",
        "        print(f\"Error inspecting {csv_path}: {e}\")\n",
        "\n",
        "# Supporting functions\n",
        "def filter_stop_words(train_sentences, stop_words):\n",
        "    new_sent = [word for word in train_sentences.split() if word not in stop_words]\n",
        "    return ' '.join(new_sent)\n",
        "\n",
        "def deEmojify(text):\n",
        "    regrex_pattern = re.compile(pattern=\"[\"\n",
        "        u\"\\U0001F600-\\U0001F64F\"  # emoticons\n",
        "        u\"\\U0001F300-\\U0001F5FF\"  # symbols & pictographs\n",
        "        u\"\\U0001F680-\\U0001F6FF\"  # transport & map symbols\n",
        "        u\"\\U0001F1E0-\\U0001F1FF\"  # flags (iOS)\n",
        "                           \"]+\", flags=re.UNICODE)\n",
        "    return regrex_pattern.sub(r'', text)\n",
        "\n",
        "def preprocess(text, tokenized=True, lowercased=True):\n",
        "    text = ViTokenizer.tokenize(text) if tokenized else text\n",
        "    text = filter_stop_words(text, stopwords)\n",
        "    text = deEmojify(text)\n",
        "    text = text.lower() if lowercased else text\n",
        "    return text\n",
        "\n",
        "def pre_process_features(X, y, tokenized=True, lowercased=True):\n",
        "    X = [preprocess(str(p), tokenized=tokenized, lowercased=lowercased) for p in list(X)]\n",
        "    valid_indices = [idx for idx, ele in enumerate(X) if ele]\n",
        "    X = [X[idx] for idx in valid_indices]\n",
        "    y = [y[idx] for idx in valid_indices]\n",
        "    return X, y\n",
        "\n",
        "# Load stopwords\n",
        "try:\n",
        "    stopwords = load_stopwords(STOPWORDS_CSV)\n",
        "    print(\"Loaded stopwords:\", stopwords)\n",
        "except Exception as e:\n",
        "    print(\"Error loading stopwords:\", e)\n",
        "\n",
        "# Inspect the columns in train and test datasets\n",
        "inspect_csv_columns(TRAIN_CSV)\n",
        "inspect_csv_columns(TEST_CSV)\n",
        "\n",
        "# Load and preprocess the train and test datasets\n",
        "try:\n",
        "    # Using the actual column names based on your inspection\n",
        "    text_column = 'free_text'  # Correct column name for text\n",
        "    label_column = 'label_id'  # Correct column name for labels\n",
        "\n",
        "    train_df = pd.read_csv(TRAIN_CSV)\n",
        "    test_df = pd.read_csv(TEST_CSV)\n",
        "\n",
        "    # Extract features and labels\n",
        "    X_train, y_train = train_df[text_column], train_df[label_column]\n",
        "    X_test, y_test = test_df[text_column], test_df[label_column]\n",
        "\n",
        "    # Preprocess features\n",
        "    X_train, y_train = pre_process_features(X_train, y_train)\n",
        "    X_test, y_test = pre_process_features(X_test, y_test)\n",
        "\n",
        "    print(\"Data preprocessing completed successfully.\")\n",
        "except Exception as e:\n",
        "    print(f\"Error loading or preprocessing data: {e}\")\n"
      ],
      "cell_type": "code",
      "metadata": {
        "colab": {
          "base_uri": "https://localhost:8080/"
        },
        "id": "Y6reX3ArxfUE",
        "outputId": "3358f146-1824-4972-e790-b8bcb8660045"
      },
      "execution_count": null,
      "outputs": [
        {
          "output_type": "stream",
          "name": "stdout",
          "text": [
            "Error loading stopwords: Error loading stopwords from /content/dev[1].csv: [Errno 2] No such file or directory: '/content/dev[1].csv'\n",
            "Columns in /content/train.csv: ['free_text', 'label_id']\n",
            "Columns in /content/test.csv: ['free_text', 'label_id']\n",
            "Data preprocessing completed successfully.\n"
          ]
        }
      ]
    },
    {
      "source": [
        "!pip install pyvi\n",
        "import pandas as pd\n",
        "import re\n",
        "import numpy as np\n",
        "from pyvi.ViTokenizer import ViTokenizer\n",
        "\n",
        "# ... (Rest of your code) ..."
      ],
      "cell_type": "code",
      "metadata": {
        "colab": {
          "base_uri": "https://localhost:8080/"
        },
        "id": "b9ydFYFpXq2S",
        "outputId": "e809b2c9-08bc-462d-8111-0bfb8cf2184d"
      },
      "execution_count": null,
      "outputs": [
        {
          "output_type": "stream",
          "name": "stdout",
          "text": [
            "Requirement already satisfied: pyvi in /usr/local/lib/python3.10/dist-packages (0.1.1)\n",
            "Requirement already satisfied: scikit-learn in /usr/local/lib/python3.10/dist-packages (from pyvi) (1.5.2)\n",
            "Requirement already satisfied: sklearn-crfsuite in /usr/local/lib/python3.10/dist-packages (from pyvi) (0.5.0)\n",
            "Requirement already satisfied: numpy>=1.19.5 in /usr/local/lib/python3.10/dist-packages (from scikit-learn->pyvi) (1.26.4)\n",
            "Requirement already satisfied: scipy>=1.6.0 in /usr/local/lib/python3.10/dist-packages (from scikit-learn->pyvi) (1.13.1)\n",
            "Requirement already satisfied: joblib>=1.2.0 in /usr/local/lib/python3.10/dist-packages (from scikit-learn->pyvi) (1.4.2)\n",
            "Requirement already satisfied: threadpoolctl>=3.1.0 in /usr/local/lib/python3.10/dist-packages (from scikit-learn->pyvi) (3.5.0)\n",
            "Requirement already satisfied: python-crfsuite>=0.9.7 in /usr/local/lib/python3.10/dist-packages (from sklearn-crfsuite->pyvi) (0.9.11)\n",
            "Requirement already satisfied: tabulate>=0.4.2 in /usr/local/lib/python3.10/dist-packages (from sklearn-crfsuite->pyvi) (0.9.0)\n",
            "Requirement already satisfied: tqdm>=2.0 in /usr/local/lib/python3.10/dist-packages (from sklearn-crfsuite->pyvi) (4.66.6)\n"
          ]
        }
      ]
    },
    {
      "cell_type": "markdown",
      "source": [
        "RUN MODELS"
      ],
      "metadata": {
        "id": "BGxPVHJvkKkj"
      }
    },
    {
      "cell_type": "markdown",
      "source": [
        "CONVOLUTIONAL NEURAL NETWORKS (CNN)"
      ],
      "metadata": {
        "id": "CqURkJtoNpr5"
      }
    },
    {
      "cell_type": "code",
      "source": [
        "import pandas as pd\n",
        "import numpy as np\n",
        "import seaborn as sn\n",
        "import matplotlib.pyplot as plt\n",
        "from tensorflow.keras.layers import Dense, Input, Embedding, Conv1D, GlobalMaxPooling1D, Dropout, Flatten\n",
        "from tensorflow.keras.models import Model\n",
        "from tensorflow.keras.preprocessing.text import Tokenizer\n",
        "from tensorflow.keras.preprocessing.sequence import pad_sequences\n",
        "from tensorflow.keras.utils import to_categorical\n",
        "from tensorflow.keras.optimizers import Adam\n",
        "from sklearn.metrics import classification_report, confusion_matrix\n",
        "\n",
        "# File paths\n",
        "TRAIN_FILE = '/content/train.csv'\n",
        "DEV_FILE = '/content/dev.csv'\n",
        "TEST_FILE = '/content/test.csv'\n",
        "\n",
        "# Load data\n",
        "def load_data(file_path):\n",
        "    df = pd.read_csv(file_path)\n",
        "    df['free_text'] = df['free_text'].fillna('').astype(str)  # Handle missing text\n",
        "    return df['free_text'].values, df['label_id'].values\n",
        "\n",
        "X_train, y_train = load_data(TRAIN_FILE)\n",
        "X_dev, y_dev = load_data(DEV_FILE)\n",
        "X_test, y_test = load_data(TEST_FILE)\n",
        "\n",
        "# Tokenizer and preprocessing\n",
        "tokenizer = Tokenizer(num_words=30000)  # Use top 30,000 words\n",
        "tokenizer.fit_on_texts(X_train)  # Fit tokenizer on training data\n",
        "\n",
        "def preprocess_text(X, y, tokenizer, maxlen=120):  # Increased maxlen\n",
        "    \"\"\"Tokenize and pad text sequences, one-hot encode labels.\"\"\"\n",
        "    X_seq = tokenizer.texts_to_sequences(X)\n",
        "    X_pad = pad_sequences(X_seq, maxlen=maxlen)  # Pad sequences to the same length\n",
        "    y_cat = to_categorical(y, num_classes=3)  # One-hot encode labels\n",
        "    return X_pad, y_cat\n",
        "\n",
        "maxlen = 120  # Adjusted sequence length\n",
        "X_train_pad, y_train_cat = preprocess_text(X_train, y_train, tokenizer, maxlen)\n",
        "X_dev_pad, y_dev_cat = preprocess_text(X_dev, y_dev, tokenizer, maxlen)\n",
        "X_test_pad, y_test_cat = preprocess_text(X_test, y_test, tokenizer, maxlen)\n",
        "\n",
        "# Build CNN model with variations\n",
        "embedding_dim = 128\n",
        "input_layer = Input(shape=(maxlen,))\n",
        "\n",
        "# Experimenting with different CNN layer parameters\n",
        "x = Embedding(input_dim=30000, output_dim=embedding_dim)(input_layer)\n",
        "x = Conv1D(256, kernel_size=5, activation='relu')(x)  # Increased filters and kernel size\n",
        "x = GlobalMaxPooling1D()(x)  # Global max pooling\n",
        "x = Dense(256, activation='relu')(x)  # Increased units in Dense layer\n",
        "x = Dropout(0.6)(x)  # Increased dropout rate\n",
        "output_layer = Dense(3, activation='softmax')(x)  # 3 classes: clean, offensive, hate\n",
        "\n",
        "model = Model(inputs=input_layer, outputs=output_layer)\n",
        "model.compile(optimizer=Adam(learning_rate=1e-4), loss='categorical_crossentropy', metrics=['accuracy'])\n",
        "\n",
        "# Train the model with increased epochs and batch size\n",
        "model.fit(X_train_pad, y_train_cat, batch_size=128, epochs=10, validation_data=(X_dev_pad, y_dev_cat), verbose=1)  # Increased epochs\n",
        "\n",
        "# Evaluate the model\n",
        "y_pred = model.predict(X_test_pad, batch_size=128).argmax(axis=-1)  # Predicted classes\n",
        "y_true = y_test  # True classes\n",
        "\n",
        "# Classification report\n",
        "print(\"\\nClassification Report:\")\n",
        "report = classification_report(y_true, y_pred, target_names=[\"clean\", \"offensive\", \"hate\"], output_dict=True)\n",
        "print(classification_report(y_true, y_pred, target_names=[\"clean\", \"offensive\", \"hate\"]))\n",
        "\n",
        "# Confusion matrix\n",
        "cf_matrix = confusion_matrix(y_true, y_pred, labels=[0, 1, 2])\n",
        "print(\"\\nConfusion Matrix:\")\n",
        "print(cf_matrix)\n",
        "\n",
        "# Plot confusion matrix\n",
        "labels = [\"clean\", \"offensive\", \"hate\"]\n",
        "df_cm = pd.DataFrame(cf_matrix, index=labels, columns=labels)\n",
        "plt.figure(figsize=(8, 6))\n",
        "sn.heatmap(df_cm, annot=True, fmt='d', cmap=\"Blues\", xticklabels=labels, yticklabels=labels)\n",
        "plt.ylabel('True label')\n",
        "plt.xlabel('Predicted label')\n",
        "plt.title('Confusion Matrix')\n",
        "plt.show()\n",
        "\n",
        "# Calculate per-class accuracy\n",
        "accuracy_per_class = cf_matrix.diagonal() / cf_matrix.sum(axis=1)\n",
        "for i, label in enumerate(labels):\n",
        "    print(f\"Accuracy for class '{label}': {accuracy_per_class[i]:.2f}\")\n",
        "\n",
        "# Explicit Offensive Class Metrics\n",
        "offensive_metrics = report[\"offensive\"]\n",
        "print(\"\\nMetrics for Offensive Class:\")\n",
        "print(f\"Precision: {offensive_metrics['precision']:.2f}\")\n",
        "print(f\"Recall: {offensive_metrics['recall']:.2f}\")\n",
        "print(f\"F1-Score: {offensive_metrics['f1-score']:.2f}\")\n",
        "print(f\"Support: {offensive_metrics['support']}\")\n"
      ],
      "metadata": {
        "colab": {
          "base_uri": "https://localhost:8080/",
          "height": 1379
        },
        "id": "v-u22KOaQ8zs",
        "outputId": "c19a102d-b9dc-4b07-8082-0d0a64d00dd9"
      },
      "execution_count": null,
      "outputs": [
        {
          "output_type": "stream",
          "name": "stdout",
          "text": [
            "Epoch 1/10\n",
            "\u001b[1m188/188\u001b[0m \u001b[32m━━━━━━━━━━━━━━━━━━━━\u001b[0m\u001b[37m\u001b[0m \u001b[1m75s\u001b[0m 392ms/step - accuracy: 0.8070 - loss: 0.7585 - val_accuracy: 0.8196 - val_loss: 0.5839\n",
            "Epoch 2/10\n",
            "\u001b[1m188/188\u001b[0m \u001b[32m━━━━━━━━━━━━━━━━━━━━\u001b[0m\u001b[37m\u001b[0m \u001b[1m82s\u001b[0m 392ms/step - accuracy: 0.8300 - loss: 0.5623 - val_accuracy: 0.8196 - val_loss: 0.5545\n",
            "Epoch 3/10\n",
            "\u001b[1m188/188\u001b[0m \u001b[32m━━━━━━━━━━━━━━━━━━━━\u001b[0m\u001b[37m\u001b[0m \u001b[1m82s\u001b[0m 393ms/step - accuracy: 0.8358 - loss: 0.4976 - val_accuracy: 0.8409 - val_loss: 0.4611\n",
            "Epoch 4/10\n",
            "\u001b[1m188/188\u001b[0m \u001b[32m━━━━━━━━━━━━━━━━━━━━\u001b[0m\u001b[37m\u001b[0m \u001b[1m74s\u001b[0m 391ms/step - accuracy: 0.8621 - loss: 0.3981 - val_accuracy: 0.8503 - val_loss: 0.4158\n",
            "Epoch 5/10\n",
            "\u001b[1m188/188\u001b[0m \u001b[32m━━━━━━━━━━━━━━━━━━━━\u001b[0m\u001b[37m\u001b[0m \u001b[1m82s\u001b[0m 392ms/step - accuracy: 0.8791 - loss: 0.3355 - val_accuracy: 0.8548 - val_loss: 0.4029\n",
            "Epoch 6/10\n",
            "\u001b[1m188/188\u001b[0m \u001b[32m━━━━━━━━━━━━━━━━━━━━\u001b[0m\u001b[37m\u001b[0m \u001b[1m74s\u001b[0m 392ms/step - accuracy: 0.8905 - loss: 0.2920 - val_accuracy: 0.8548 - val_loss: 0.3951\n",
            "Epoch 7/10\n",
            "\u001b[1m188/188\u001b[0m \u001b[32m━━━━━━━━━━━━━━━━━━━━\u001b[0m\u001b[37m\u001b[0m \u001b[1m82s\u001b[0m 392ms/step - accuracy: 0.9038 - loss: 0.2609 - val_accuracy: 0.8559 - val_loss: 0.4007\n",
            "Epoch 8/10\n",
            "\u001b[1m188/188\u001b[0m \u001b[32m━━━━━━━━━━━━━━━━━━━━\u001b[0m\u001b[37m\u001b[0m \u001b[1m83s\u001b[0m 397ms/step - accuracy: 0.9146 - loss: 0.2323 - val_accuracy: 0.8570 - val_loss: 0.4056\n",
            "Epoch 9/10\n",
            "\u001b[1m188/188\u001b[0m \u001b[32m━━━━━━━━━━━━━━━━━━━━\u001b[0m\u001b[37m\u001b[0m \u001b[1m74s\u001b[0m 393ms/step - accuracy: 0.9232 - loss: 0.2118 - val_accuracy: 0.8604 - val_loss: 0.4068\n",
            "Epoch 10/10\n",
            "\u001b[1m188/188\u001b[0m \u001b[32m━━━━━━━━━━━━━━━━━━━━\u001b[0m\u001b[37m\u001b[0m \u001b[1m82s\u001b[0m 394ms/step - accuracy: 0.9346 - loss: 0.1852 - val_accuracy: 0.8615 - val_loss: 0.4210\n",
            "\u001b[1m53/53\u001b[0m \u001b[32m━━━━━━━━━━━━━━━━━━━━\u001b[0m\u001b[37m\u001b[0m \u001b[1m6s\u001b[0m 102ms/step\n",
            "\n",
            "Classification Report:\n",
            "              precision    recall  f1-score   support\n",
            "\n",
            "       clean       0.91      0.96      0.94      5548\n",
            "   offensive       0.49      0.25      0.33       444\n",
            "        hate       0.57      0.51      0.54       688\n",
            "\n",
            "    accuracy                           0.87      6680\n",
            "   macro avg       0.66      0.57      0.60      6680\n",
            "weighted avg       0.85      0.87      0.85      6680\n",
            "\n",
            "\n",
            "Confusion Matrix:\n",
            "[[5328   56  164]\n",
            " [ 233  109  102]\n",
            " [ 277   58  353]]\n"
          ]
        },
        {
          "output_type": "display_data",
          "data": {
            "text/plain": [
              "<Figure size 800x600 with 2 Axes>"
            ],
            "image/png": "[encoded data removed]"
          },
          "metadata": {}
        },
        {
          "output_type": "stream",
          "name": "stdout",
          "text": [
            "Accuracy for class 'clean': 0.96\n",
            "Accuracy for class 'offensive': 0.25\n",
            "Accuracy for class 'hate': 0.51\n",
            "\n",
            "Metrics for Offensive Class:\n",
            "Precision: 0.49\n",
            "Recall: 0.25\n",
            "F1-Score: 0.33\n",
            "Support: 444.0\n"
          ]
        }
      ]
    },
    {
      "cell_type": "markdown",
      "source": [
        "LONG SHORT TERM MEMORY (LSTM)"
      ],
      "metadata": {
        "id": "9MOmFkGjPZk9"
      }
    },
    {
      "cell_type": "code",
      "source": [
        "import pandas as pd\n",
        "import numpy as np\n",
        "import seaborn as sn\n",
        "import matplotlib.pyplot as plt\n",
        "from tensorflow.keras.layers import Dense, Input, LSTM, Embedding, SpatialDropout1D, GlobalMaxPooling1D, GlobalAveragePooling1D, Dropout, Bidirectional, GRU\n",
        "from tensorflow.keras.models import Model\n",
        "from tensorflow.keras.preprocessing.text import Tokenizer\n",
        "from tensorflow.keras.preprocessing.sequence import pad_sequences\n",
        "from tensorflow.keras.utils import to_categorical\n",
        "from tensorflow.keras.optimizers import Adam\n",
        "from sklearn.metrics import classification_report, confusion_matrix\n",
        "\n",
        "# File paths\n",
        "TRAIN_FILE = '/content/train.csv'\n",
        "DEV_FILE = '/content/dev.csv'\n",
        "TEST_FILE = '/content/test.csv'\n",
        "\n",
        "# Load data\n",
        "def load_data(file_path):\n",
        "    df = pd.read_csv(file_path)\n",
        "    df['free_text'] = df['free_text'].fillna('').astype(str)  # Handle missing text\n",
        "    return df['free_text'].values, df['label_id'].values\n",
        "\n",
        "X_train, y_train = load_data(TRAIN_FILE)\n",
        "X_dev, y_dev = load_data(DEV_FILE)\n",
        "X_test, y_test = load_data(TEST_FILE)\n",
        "\n",
        "# Tokenizer and preprocessing\n",
        "tokenizer = Tokenizer(num_words=25000)  # Increased number of words in tokenizer\n",
        "tokenizer.fit_on_texts(X_train)  # Fit tokenizer on training data\n",
        "\n",
        "def preprocess_text(X, y, tokenizer, maxlen=150):  # Adjusted maxlen\n",
        "    \"\"\"Tokenize and pad text sequences, one-hot encode labels.\"\"\"\n",
        "    X_seq = tokenizer.texts_to_sequences(X)\n",
        "    X_pad = pad_sequences(X_seq, maxlen=maxlen)  # Pad sequences to the same length\n",
        "    y_cat = to_categorical(y, num_classes=3)  # One-hot encode labels\n",
        "    return X_pad, y_cat\n",
        "\n",
        "maxlen = 150  # Adjusted sequence length\n",
        "X_train_pad, y_train_cat = preprocess_text(X_train, y_train, tokenizer, maxlen)\n",
        "X_dev_pad, y_dev_cat = preprocess_text(X_dev, y_dev, tokenizer, maxlen)\n",
        "X_test_pad, y_test_cat = preprocess_text(X_test, y_test, tokenizer, maxlen)\n",
        "\n",
        "# Build modified model\n",
        "embedding_dim = 128\n",
        "input_layer = Input(shape=(maxlen,))\n",
        "x = Embedding(input_dim=25000, output_dim=embedding_dim)(input_layer)\n",
        "x = SpatialDropout1D(0.3)(x)  # Increased dropout rate\n",
        "x = Bidirectional(LSTM(100, return_sequences=True))(x)  # Bidirectional LSTM\n",
        "x = GRU(50, return_sequences=True)(x)  # Added GRU layer\n",
        "avg_pool = GlobalAveragePooling1D()(x)\n",
        "max_pool = GlobalMaxPooling1D()(x)\n",
        "conc = concatenate([avg_pool, max_pool])\n",
        "x = Dropout(0.2)(conc)  # Added dropout after concatenation\n",
        "output_layer = Dense(3, activation='softmax')(x)  # 3 classes: clean, offensive, hate\n",
        "\n",
        "model = Model(inputs=input_layer, outputs=output_layer)\n",
        "model.compile(optimizer=Adam(learning_rate=1e-4), loss='categorical_crossentropy', metrics=['accuracy'])\n",
        "\n",
        "# Train the model\n",
        "model.fit(X_train_pad, y_train_cat, batch_size=128, epochs=10, validation_data=(X_dev_pad, y_dev_cat), verbose=1)  # Increased epochs\n",
        "\n",
        "# Evaluate the model\n",
        "y_pred = model.predict(X_test_pad, batch_size=128).argmax(axis=-1)  # Predicted classes\n",
        "y_true = y_test  # True classes\n",
        "\n",
        "# Classification report\n",
        "print(\"\\nClassification Report:\")\n",
        "print(classification_report(y_true, y_pred, target_names=[\"clean\", \"offensive\", \"hate\"]))\n",
        "\n",
        "# Confusion matrix\n",
        "cf_matrix = confusion_matrix(y_true, y_pred, labels=[0, 1, 2])\n",
        "print(\"\\nConfusion Matrix:\")\n",
        "print(cf_matrix)\n",
        "\n",
        "# Plot confusion matrix\n",
        "labels = [\"clean\", \"offensive\", \"hate\"]\n",
        "df_cm = pd.DataFrame(cf_matrix, index=labels, columns=labels)\n",
        "plt.figure(figsize=(8, 6))\n",
        "sn.heatmap(df_cm, annot=True, fmt='d', cmap=\"Blues\", xticklabels=labels, yticklabels=labels)\n",
        "plt.ylabel('True label')\n",
        "plt.xlabel('Predicted label')\n",
        "plt.title('Confusion Matrix')\n",
        "plt.show()\n",
        "\n",
        "# Calculate per-class accuracy\n",
        "accuracy_per_class = cf_matrix.diagonal() / cf_matrix.sum(axis=1)\n",
        "for i, label in enumerate(labels):\n",
        "    print(f\"Accuracy for class '{label}': {accuracy_per_class[i]:.2f}\")\n"
      ],
      "metadata": {
        "colab": {
          "base_uri": "https://localhost:8080/",
          "height": 1275
        },
        "id": "0Jzl3he9A1oF",
        "outputId": "5e5ff337-3b19-44e2-9b53-77b198f3f606"
      },
      "execution_count": null,
      "outputs": [
        {
          "output_type": "stream",
          "name": "stdout",
          "text": [
            "Epoch 1/10\n",
            "\u001b[1m188/188\u001b[0m \u001b[32m━━━━━━━━━━━━━━━━━━━━\u001b[0m\u001b[37m\u001b[0m \u001b[1m232s\u001b[0m 1s/step - accuracy: 0.8156 - loss: 0.6865 - val_accuracy: 0.8196 - val_loss: 0.5834\n",
            "Epoch 2/10\n",
            "\u001b[1m188/188\u001b[0m \u001b[32m━━━━━━━━━━━━━━━━━━━━\u001b[0m\u001b[37m\u001b[0m \u001b[1m258s\u001b[0m 1s/step - accuracy: 0.8275 - loss: 0.5628 - val_accuracy: 0.8196 - val_loss: 0.5763\n",
            "Epoch 3/10\n",
            "\u001b[1m188/188\u001b[0m \u001b[32m━━━━━━━━━━━━━━━━━━━━\u001b[0m\u001b[37m\u001b[0m \u001b[1m264s\u001b[0m 1s/step - accuracy: 0.8264 - loss: 0.5512 - val_accuracy: 0.8204 - val_loss: 0.5520\n",
            "Epoch 4/10\n",
            "\u001b[1m188/188\u001b[0m \u001b[32m━━━━━━━━━━━━━━━━━━━━\u001b[0m\u001b[37m\u001b[0m \u001b[1m259s\u001b[0m 1s/step - accuracy: 0.8333 - loss: 0.5069 - val_accuracy: 0.8387 - val_loss: 0.4584\n",
            "Epoch 5/10\n",
            "\u001b[1m188/188\u001b[0m \u001b[32m━━━━━━━━━━━━━━━━━━━━\u001b[0m\u001b[37m\u001b[0m \u001b[1m265s\u001b[0m 1s/step - accuracy: 0.8598 - loss: 0.4074 - val_accuracy: 0.8462 - val_loss: 0.4273\n",
            "Epoch 6/10\n",
            "\u001b[1m188/188\u001b[0m \u001b[32m━━━━━━━━━━━━━━━━━━━━\u001b[0m\u001b[37m\u001b[0m \u001b[1m226s\u001b[0m 1s/step - accuracy: 0.8688 - loss: 0.3520 - val_accuracy: 0.8462 - val_loss: 0.4167\n",
            "Epoch 7/10\n",
            "\u001b[1m188/188\u001b[0m \u001b[32m━━━━━━━━━━━━━━━━━━━━\u001b[0m\u001b[37m\u001b[0m \u001b[1m258s\u001b[0m 1s/step - accuracy: 0.8837 - loss: 0.3180 - val_accuracy: 0.8503 - val_loss: 0.4104\n",
            "Epoch 8/10\n",
            "\u001b[1m188/188\u001b[0m \u001b[32m━━━━━━━━━━━━━━━━━━━━\u001b[0m\u001b[37m\u001b[0m \u001b[1m263s\u001b[0m 1s/step - accuracy: 0.8866 - loss: 0.3005 - val_accuracy: 0.8518 - val_loss: 0.4130\n",
            "Epoch 9/10\n",
            "\u001b[1m188/188\u001b[0m \u001b[32m━━━━━━━━━━━━━━━━━━━━\u001b[0m\u001b[37m\u001b[0m \u001b[1m267s\u001b[0m 1s/step - accuracy: 0.8942 - loss: 0.2754 - val_accuracy: 0.8492 - val_loss: 0.4179\n",
            "Epoch 10/10\n",
            "\u001b[1m188/188\u001b[0m \u001b[32m━━━━━━━━━━━━━━━━━━━━\u001b[0m\u001b[37m\u001b[0m \u001b[1m224s\u001b[0m 1s/step - accuracy: 0.9010 - loss: 0.2647 - val_accuracy: 0.8537 - val_loss: 0.4229\n",
            "\u001b[1m53/53\u001b[0m \u001b[32m━━━━━━━━━━━━━━━━━━━━\u001b[0m\u001b[37m\u001b[0m \u001b[1m20s\u001b[0m 365ms/step\n",
            "\n",
            "Classification Report:\n",
            "              precision    recall  f1-score   support\n",
            "\n",
            "       clean       0.91      0.96      0.94      5548\n",
            "   offensive       0.39      0.18      0.25       444\n",
            "        hate       0.56      0.50      0.53       688\n",
            "\n",
            "    accuracy                           0.86      6680\n",
            "   macro avg       0.62      0.55      0.57      6680\n",
            "weighted avg       0.84      0.86      0.85      6680\n",
            "\n",
            "\n",
            "Confusion Matrix:\n",
            "[[5336   58  154]\n",
            " [ 244   80  120]\n",
            " [ 278   67  343]]\n"
          ]
        },
        {
          "output_type": "display_data",
          "data": {
            "text/plain": [
              "<Figure size 800x600 with 2 Axes>"
            ],
            "image/png": "[encoded data removed]"
          },
          "metadata": {}
        },
        {
          "output_type": "stream",
          "name": "stdout",
          "text": [
            "Accuracy for class 'clean': 0.96\n",
            "Accuracy for class 'offensive': 0.18\n",
            "Accuracy for class 'hate': 0.50\n"
          ]
        }
      ]
    },
    {
      "cell_type": "markdown",
      "source": [
        "GATED RECURRENT UNIT (GRU)"
      ],
      "metadata": {
        "id": "7fwRHMhFYnNU"
      }
    },
    {
      "cell_type": "code",
      "source": [
        "import pandas as pd\n",
        "import numpy as np\n",
        "import seaborn as sn\n",
        "import matplotlib.pyplot as plt\n",
        "from tensorflow.keras.layers import Dense, Input, GRU, Embedding, SpatialDropout1D, GlobalMaxPooling1D, GlobalAveragePooling1D, Dropout, Bidirectional\n",
        "from tensorflow.keras.models import Model\n",
        "from tensorflow.keras.preprocessing.text import Tokenizer\n",
        "from tensorflow.keras.preprocessing.sequence import pad_sequences\n",
        "from tensorflow.keras.utils import to_categorical\n",
        "from tensorflow.keras.optimizers import Adam\n",
        "from sklearn.metrics import classification_report, confusion_matrix\n",
        "\n",
        "# File paths\n",
        "TRAIN_FILE = '/content/train.csv'\n",
        "DEV_FILE = '/content/dev.csv'\n",
        "TEST_FILE = '/content/test.csv'\n",
        "\n",
        "# Load data\n",
        "def load_data(file_path):\n",
        "    df = pd.read_csv(file_path)\n",
        "    df['free_text'] = df['free_text'].fillna('').astype(str)  # Handle missing text\n",
        "    return df['free_text'].values, df['label_id'].values\n",
        "\n",
        "X_train, y_train = load_data(TRAIN_FILE)\n",
        "X_dev, y_dev = load_data(DEV_FILE)\n",
        "X_test, y_test = load_data(TEST_FILE)\n",
        "\n",
        "# Tokenizer and preprocessing\n",
        "tokenizer = Tokenizer(num_words=25000)  # Increased number of words in tokenizer\n",
        "tokenizer.fit_on_texts(X_train)  # Fit tokenizer on training data\n",
        "\n",
        "def preprocess_text(X, y, tokenizer, maxlen=150):  # Adjusted maxlen\n",
        "    \"\"\"Tokenize and pad text sequences, one-hot encode labels.\"\"\"\n",
        "    X_seq = tokenizer.texts_to_sequences(X)\n",
        "    X_pad = pad_sequences(X_seq, maxlen=maxlen)  # Pad sequences to the same length\n",
        "    y_cat = to_categorical(y, num_classes=3)  # One-hot encode labels\n",
        "    return X_pad, y_cat\n",
        "\n",
        "maxlen = 150  # Adjusted sequence length\n",
        "X_train_pad, y_train_cat = preprocess_text(X_train, y_train, tokenizer, maxlen)\n",
        "X_dev_pad, y_dev_cat = preprocess_text(X_dev, y_dev, tokenizer, maxlen)\n",
        "X_test_pad, y_test_cat = preprocess_text(X_test, y_test, tokenizer, maxlen)\n",
        "\n",
        "# Build modified GRU model with variations\n",
        "embedding_dim = 128\n",
        "input_layer = Input(shape=(maxlen,))\n",
        "x = Embedding(input_dim=25000, output_dim=embedding_dim)(input_layer)\n",
        "x = SpatialDropout1D(0.3)(x)  # Increased dropout rate\n",
        "\n",
        "# Experimenting with different GRU configurations\n",
        "x = GRU(100, return_sequences=True)(x)  # GRU with 100 units (first variation)\n",
        "#x = GRU(150, return_sequences=True)(x)  # GRU with 150 units (second variation)\n",
        "#x = GRU(200, return_sequences=True)(x)  # GRU with 200 units (third variation)\n",
        "\n",
        "avg_pool = GlobalAveragePooling1D()(x)\n",
        "max_pool = GlobalMaxPooling1D()(x)\n",
        "conc = concatenate([avg_pool, max_pool])\n",
        "x = Dropout(0.2)(conc)  # Added dropout after concatenation\n",
        "\n",
        "output_layer = Dense(3, activation='softmax')(x)  # 3 classes: clean, offensive, hate\n",
        "\n",
        "model = Model(inputs=input_layer, outputs=output_layer)\n",
        "model.compile(optimizer=Adam(learning_rate=1e-4), loss='categorical_crossentropy', metrics=['accuracy'])\n",
        "\n",
        "# Train the model\n",
        "model.fit(X_train_pad, y_train_cat, batch_size=128, epochs=10, validation_data=(X_dev_pad, y_dev_cat), verbose=1)  # Increased epochs\n",
        "\n",
        "# Evaluate the model\n",
        "y_pred = model.predict(X_test_pad, batch_size=128).argmax(axis=-1)  # Predicted classes\n",
        "y_true = y_test  # True classes\n",
        "\n",
        "# Classification report\n",
        "print(\"\\nClassification Report:\")\n",
        "report = classification_report(y_true, y_pred, target_names=[\"clean\", \"offensive\", \"hate\"], output_dict=True)\n",
        "print(classification_report(y_true, y_pred, target_names=[\"clean\", \"offensive\", \"hate\"]))\n",
        "\n",
        "# Confusion matrix\n",
        "cf_matrix = confusion_matrix(y_true, y_pred, labels=[0, 1, 2])\n",
        "print(\"\\nConfusion Matrix:\")\n",
        "print(cf_matrix)\n",
        "\n",
        "# Plot confusion matrix\n",
        "labels = [\"clean\", \"offensive\", \"hate\"]\n",
        "df_cm = pd.DataFrame(cf_matrix, index=labels, columns=labels)\n",
        "plt.figure(figsize=(8, 6))\n",
        "sn.heatmap(df_cm, annot=True, fmt='d', cmap=\"Blues\", xticklabels=labels, yticklabels=labels)\n",
        "plt.ylabel('True label')\n",
        "plt.xlabel('Predicted label')\n",
        "plt.title('Confusion Matrix')\n",
        "plt.show()\n",
        "\n",
        "# Calculate per-class accuracy\n",
        "accuracy_per_class = cf_matrix.diagonal() / cf_matrix.sum(axis=1)\n",
        "for i, label in enumerate(labels):\n",
        "    print(f\"Accuracy for class '{label}': {accuracy_per_class[i]:.2f}\")\n",
        "\n",
        "# Explicit Offensive Class Metrics\n",
        "offensive_metrics = report[\"offensive\"]\n",
        "print(\"\\nMetrics for Offensive Class:\")\n",
        "print(f\"Precision: {offensive_metrics['precision']:.2f}\")\n",
        "print(f\"Recall: {offensive_metrics['recall']:.2f}\")\n",
        "print(f\"F1-Score: {offensive_metrics['f1-score']:.2f}\")\n",
        "print(f\"Support: {offensive_metrics['support']}\")\n"
      ],
      "metadata": {
        "colab": {
          "base_uri": "https://localhost:8080/",
          "height": 1379
        },
        "id": "z7D-Gs7icH-K",
        "outputId": "30a9cde1-f5f6-4ecb-f6e8-2539c0092068"
      },
      "execution_count": null,
      "outputs": [
        {
          "output_type": "stream",
          "name": "stdout",
          "text": [
            "Epoch 1/10\n",
            "\u001b[1m188/188\u001b[0m \u001b[32m━━━━━━━━━━━━━━━━━━━━\u001b[0m\u001b[37m\u001b[0m \u001b[1m111s\u001b[0m 576ms/step - accuracy: 0.8175 - loss: 0.7067 - val_accuracy: 0.8196 - val_loss: 0.5842\n",
            "Epoch 2/10\n",
            "\u001b[1m188/188\u001b[0m \u001b[32m━━━━━━━━━━━━━━━━━━━━\u001b[0m\u001b[37m\u001b[0m \u001b[1m142s\u001b[0m 573ms/step - accuracy: 0.8308 - loss: 0.5549 - val_accuracy: 0.8196 - val_loss: 0.5761\n",
            "Epoch 3/10\n",
            "\u001b[1m188/188\u001b[0m \u001b[32m━━━━━━━━━━━━━━━━━━━━\u001b[0m\u001b[37m\u001b[0m \u001b[1m139s\u001b[0m 560ms/step - accuracy: 0.8262 - loss: 0.5591 - val_accuracy: 0.8196 - val_loss: 0.5615\n",
            "Epoch 4/10\n",
            "\u001b[1m188/188\u001b[0m \u001b[32m━━━━━━━━━━━━━━━━━━━━\u001b[0m\u001b[37m\u001b[0m \u001b[1m148s\u001b[0m 590ms/step - accuracy: 0.8262 - loss: 0.5373 - val_accuracy: 0.8219 - val_loss: 0.5255\n",
            "Epoch 5/10\n",
            "\u001b[1m188/188\u001b[0m \u001b[32m━━━━━━━━━━━━━━━━━━━━\u001b[0m\u001b[37m\u001b[0m \u001b[1m136s\u001b[0m 561ms/step - accuracy: 0.8364 - loss: 0.4834 - val_accuracy: 0.8402 - val_loss: 0.4574\n",
            "Epoch 6/10\n",
            "\u001b[1m188/188\u001b[0m \u001b[32m━━━━━━━━━━━━━━━━━━━━\u001b[0m\u001b[37m\u001b[0m \u001b[1m107s\u001b[0m 569ms/step - accuracy: 0.8561 - loss: 0.4147 - val_accuracy: 0.8492 - val_loss: 0.4256\n",
            "Epoch 7/10\n",
            "\u001b[1m188/188\u001b[0m \u001b[32m━━━━━━━━━━━━━━━━━━━━\u001b[0m\u001b[37m\u001b[0m \u001b[1m105s\u001b[0m 560ms/step - accuracy: 0.8709 - loss: 0.3630 - val_accuracy: 0.8499 - val_loss: 0.4153\n",
            "Epoch 8/10\n",
            "\u001b[1m188/188\u001b[0m \u001b[32m━━━━━━━━━━━━━━━━━━━━\u001b[0m\u001b[37m\u001b[0m \u001b[1m144s\u001b[0m 570ms/step - accuracy: 0.8798 - loss: 0.3299 - val_accuracy: 0.8510 - val_loss: 0.4087\n",
            "Epoch 9/10\n",
            "\u001b[1m188/188\u001b[0m \u001b[32m━━━━━━━━━━━━━━━━━━━━\u001b[0m\u001b[37m\u001b[0m \u001b[1m105s\u001b[0m 561ms/step - accuracy: 0.8829 - loss: 0.3191 - val_accuracy: 0.8555 - val_loss: 0.4070\n",
            "Epoch 10/10\n",
            "\u001b[1m188/188\u001b[0m \u001b[32m━━━━━━━━━━━━━━━━━━━━\u001b[0m\u001b[37m\u001b[0m \u001b[1m144s\u001b[0m 570ms/step - accuracy: 0.8881 - loss: 0.3009 - val_accuracy: 0.8544 - val_loss: 0.4115\n",
            "\u001b[1m53/53\u001b[0m \u001b[32m━━━━━━━━━━━━━━━━━━━━\u001b[0m\u001b[37m\u001b[0m \u001b[1m7s\u001b[0m 134ms/step\n",
            "\n",
            "Classification Report:\n",
            "              precision    recall  f1-score   support\n",
            "\n",
            "       clean       0.90      0.97      0.93      5548\n",
            "   offensive       0.56      0.09      0.16       444\n",
            "        hate       0.55      0.48      0.52       688\n",
            "\n",
            "    accuracy                           0.86      6680\n",
            "   macro avg       0.67      0.52      0.53      6680\n",
            "weighted avg       0.84      0.86      0.84      6680\n",
            "\n",
            "\n",
            "Confusion Matrix:\n",
            "[[5394   11  143]\n",
            " [ 277   40  127]\n",
            " [ 334   21  333]]\n"
          ]
        },
        {
          "output_type": "display_data",
          "data": {
            "text/plain": [
              "<Figure size 800x600 with 2 Axes>"
            ],
            "image/png": "[encoded data removed]"
          },
          "metadata": {}
        },
        {
          "output_type": "stream",
          "name": "stdout",
          "text": [
            "Accuracy for class 'clean': 0.97\n",
            "Accuracy for class 'offensive': 0.09\n",
            "Accuracy for class 'hate': 0.48\n",
            "\n",
            "Metrics for Offensive Class:\n",
            "Precision: 0.56\n",
            "Recall: 0.09\n",
            "F1-Score: 0.16\n",
            "Support: 444.0\n"
          ]
        }
      ]
    }
  ]
}